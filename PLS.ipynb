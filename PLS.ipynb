{
 "cells": [
  {
   "cell_type": "code",
   "execution_count": 1,
   "id": "350b0787",
   "metadata": {},
   "outputs": [],
   "source": [
    "import pandas as pd\n",
    "import numpy as np\n",
    "import matplotlib.pyplot as plt\n",
    "import scipy.linalg as sp\n",
    "import time\n",
    "from sklearn.cross_decomposition import PLSRegression"
   ]
  },
  {
   "cell_type": "markdown",
   "id": "3a8eead7-a6e8-458e-82c0-4ac3e62ccf75",
   "metadata": {},
   "source": [
    "Here, we create a $n\\times m$ matrix $X$ and a $n\\times p$ matrix $Y$, where\n",
    "* $n$ is the number of samples;\n",
    "* $m$ is the number of human genetic variants;\n",
    "* $p$ is the number of pathogen genetic variants."
   ]
  },
  {
   "cell_type": "code",
   "execution_count": 84,
   "id": "8e011e10",
   "metadata": {},
   "outputs": [],
   "source": [
    "S = (v.X).T @ v.Y\n",
    "n = S.T @ S\n",
    "eigenvalues, eigenvectors = np.linalg.eig(n)"
   ]
  },
  {
   "cell_type": "code",
   "execution_count": 88,
   "id": "03dc05a2",
   "metadata": {},
   "outputs": [
    {
     "data": {
      "text/plain": [
       "50"
      ]
     },
     "execution_count": 88,
     "metadata": {},
     "output_type": "execute_result"
    }
   ],
   "source": [
    "S.size"
   ]
  },
  {
   "cell_type": "code",
   "execution_count": 56,
   "id": "635f2794",
   "metadata": {},
   "outputs": [
    {
     "data": {
      "text/plain": [
       "array([ 55.68946576, 186.73702662,  83.76003807,  36.47353508,\n",
       "        36.47353508])"
      ]
     },
     "execution_count": 56,
     "metadata": {},
     "output_type": "execute_result"
    }
   ],
   "source": [
    "n @ q"
   ]
  },
  {
   "cell_type": "code",
   "execution_count": 176,
   "id": "0acd9367",
   "metadata": {},
   "outputs": [],
   "source": [
    "def transfer(mat, model = 'additive'):\n",
    "    if model == 'additive':\n",
    "        return mat/2\n",
    "    elif model == 'force':\n",
    "        tmp = np.where(mat >= 0.5, 1, mat)\n",
    "        return np.where(tmp < 0.5, 0, tmp)\n",
    "    elif model == 'dominant':\n",
    "        return np.where(mat == 2, 1, mat)\n",
    "    else:\n",
    "        tmp = np.where(mat == 2, 1, mat)\n",
    "        return np.where(tmp == 1, 0, tmp)\n",
    "    \n",
    "def affect(mat, weight = np.array([1]), model = 'additive', encode = True):\n",
    "    mat = transfer(mat, model)\n",
    "    dosage = mat*weight\n",
    "    if len(weight) != 1:\n",
    "        dosage = np.sum(dosage, axis = 1)\n",
    "    return transfer(dosage, model = 'force')\n",
    "class Human:\n",
    "    def __init__(self, n_pop, n_var, ploidy = 2):\n",
    "        self.n_pop = n_pop\n",
    "        self.n_var = n_var\n",
    "        self.ploidy = ploidy\n",
    "        self.X = np.random.randint(low = 0, high = ploidy + 1, size =(n_pop, n_var)) # nxm matrix X\n",
    "\n",
    "class Virus:\n",
    "    def __init__(self, human, n_var, ploidy = 1):\n",
    "        self.X = human.X\n",
    "        self.n_pop = self.X.shape[0]\n",
    "        self.n_var = n_var\n",
    "        self.ploidy = ploidy\n",
    "        self.Y = np.random.randint(low = 0, high = ploidy + 1, size =(self.n_pop, self.n_var)) # nxp matrix Y\n",
    "# Returns the means of the matrix for centralization\n",
    "def getMean(mat):\n",
    "    return np.tile(np.mean(mat, axis = 0),(mat.shape[0],1))\n",
    "\n",
    "# This function calculates the variance in the original matrix\n",
    "def getVariance(mat):\n",
    "    totalVar = 0\n",
    "    for i in range(mat.shape[1]):\n",
    "        totalVar += np.var(mat[:,i])\n",
    "    return totalVar*(mat.shape[0])/(mat.shape[0] - 1)\n",
    "\n",
    "# Plot variance graph \n",
    "def plotVar(varXAry, varYAry, varXTotal, varYTotal):\n",
    "    numFactor = len(varXAry)\n",
    "    numFactorAry = np.arange(1, numFactor + 1)\n",
    "    plt.plot(numFactorAry, np.cumsum(varXAry/varXTotal), color = 'c', label = 'varX')\n",
    "    plt.plot(numFactorAry, np.cumsum(varYAry)/varYTotal, color = 'm', label = 'varY')\n",
    "    plt.axhline(y = 1, color = 'g', linestyle = '--')\n",
    "    plt.xlabel('number of factors')\n",
    "    plt.ylabel('percent variance explained')\n",
    "    plt.legend()\n",
    "    plt.title('variance explained in $X$ and $Y$')\n",
    "    plt.show()\n",
    "    \n",
    "# The SIMPLS algorithm\n",
    "def SIMPLS(X, Y, numFactor):\n",
    "    X = np.matrix(X)\n",
    "    Y = np.matrix(Y)\n",
    "    \n",
    "    varXAry = []\n",
    "    varYAry = []\n",
    "    varSAry = []\n",
    "    \n",
    "    numSample = X.shape[0]\n",
    "    numHuman = X.shape[1]\n",
    "    numPathogen = Y.shape[1]\n",
    "    \n",
    "    Y0 = Y - getMean(Y) # Centralize Y\n",
    "    S = (X.T @ Y0) # Calculate S\n",
    "    for a in range(1, numFactor+1):\n",
    "        eigenvalues, eigenvectors = np.linalg.eig(S.T @ S)\n",
    "        dominant_index = np.argmax(np.abs(eigenvalues))\n",
    "        q = np.matrix(eigenvectors[:, dominant_index])\n",
    "        r = S @ q\n",
    "        t = X @ r\n",
    "        t = t - np.mean(t)\n",
    "        normt = np.sqrt(t.T @ t)\n",
    "        t = t/normt\n",
    "        r = r/np.sqrt(r.T @ r)\n",
    "        p = X.T @ t\n",
    "        q = Y0.T @ t\n",
    "        u = Y0 @ q\n",
    "        v = p\n",
    "        if a > 1:\n",
    "            v = v - V @ (V.T @ p)\n",
    "            u = u - T @ (T.T @ u)\n",
    "        v = v/np.sqrt(v.T @ v)\n",
    "        S = S - v @ (v.T @ S)\n",
    "        R, T, P, Q, U, V = r, t, p, q, u, v\n",
    "        if a == 1:\n",
    "            T_mat = T\n",
    "            R_mat = R\n",
    "        else:\n",
    "            T_mat = np.hstack([T_mat, T])\n",
    "            R_mat = np.hstack([R_mat, R])\n",
    "        varXAry.append(np.diag((P.T @ P)/(numSample - 1))[0])\n",
    "        varYAry.append(np.diag((Q.T @ Q)/(numSample - 1))[0])\n",
    "        # If the information is already extracted, stop the algorithm immediately\n",
    "#         if abs(np.sum(varYAry) - getVariance(Y)) < 1e-10:\n",
    "#             B = R @ Q.T\n",
    "#             h = np.diag(T @ T.T) + 1/numSample\n",
    "#             return B, tAry, varXAry, varYAry, varSAry\n",
    "    B = R_mat @ Q.T\n",
    "    h = np.diag(T_mat @ T_mat.T) + 1/numSample\n",
    "    return B, tAry, varXAry, varYAry, varSAry, rAry"
   ]
  },
  {
   "cell_type": "code",
   "execution_count": 313,
   "id": "97399d18",
   "metadata": {},
   "outputs": [],
   "source": [
    "h = Human(20, 100)\n",
    "v = Virus(h, 10)\n",
    "# v.Y[:,2] = v.X[:, 5]"
   ]
  },
  {
   "cell_type": "code",
   "execution_count": 314,
   "id": "f5e82f5f",
   "metadata": {
    "scrolled": true
   },
   "outputs": [
    {
     "data": {
      "text/plain": [
       "array([[1, 0, 1, ..., 1, 0, 2],\n",
       "       [0, 2, 2, ..., 1, 2, 2],\n",
       "       [1, 2, 0, ..., 0, 0, 1],\n",
       "       ...,\n",
       "       [2, 1, 0, ..., 0, 1, 0],\n",
       "       [2, 2, 1, ..., 2, 2, 1],\n",
       "       [2, 1, 1, ..., 1, 0, 1]])"
      ]
     },
     "execution_count": 314,
     "metadata": {},
     "output_type": "execute_result"
    }
   ],
   "source": [
    "v.X"
   ]
  },
  {
   "cell_type": "code",
   "execution_count": 315,
   "id": "05adf66b",
   "metadata": {},
   "outputs": [
    {
     "data": {
      "text/plain": [
       "array([[0, 0, 1, 1, 0, 0, 0, 0, 0, 1],\n",
       "       [1, 0, 1, 1, 1, 1, 1, 1, 0, 0],\n",
       "       [1, 0, 0, 0, 0, 0, 1, 0, 0, 1],\n",
       "       [1, 0, 0, 0, 0, 1, 1, 0, 1, 0],\n",
       "       [1, 0, 0, 0, 1, 0, 0, 1, 1, 0],\n",
       "       [1, 0, 0, 1, 1, 0, 0, 1, 0, 1],\n",
       "       [1, 0, 0, 0, 1, 1, 1, 1, 0, 1],\n",
       "       [0, 1, 1, 1, 1, 0, 0, 1, 0, 0],\n",
       "       [1, 0, 1, 0, 0, 0, 1, 0, 1, 0],\n",
       "       [1, 0, 0, 1, 0, 1, 1, 0, 0, 0],\n",
       "       [1, 0, 1, 1, 1, 1, 0, 1, 1, 0],\n",
       "       [1, 0, 1, 0, 0, 0, 0, 1, 1, 0],\n",
       "       [0, 0, 0, 1, 0, 1, 1, 1, 1, 0],\n",
       "       [1, 1, 1, 0, 0, 0, 1, 1, 1, 0],\n",
       "       [1, 1, 0, 1, 1, 1, 0, 0, 0, 0],\n",
       "       [0, 0, 0, 1, 1, 1, 1, 1, 0, 1],\n",
       "       [1, 1, 1, 1, 0, 1, 0, 1, 0, 1],\n",
       "       [1, 1, 1, 1, 1, 1, 1, 1, 0, 0],\n",
       "       [0, 1, 0, 1, 1, 0, 0, 0, 0, 1],\n",
       "       [0, 0, 0, 0, 1, 0, 0, 0, 1, 0]])"
      ]
     },
     "execution_count": 315,
     "metadata": {},
     "output_type": "execute_result"
    }
   ],
   "source": [
    "v.Y"
   ]
  },
  {
   "cell_type": "code",
   "execution_count": 158,
   "id": "c1f6d23e",
   "metadata": {},
   "outputs": [],
   "source": [
    "varX1Total = getVariance(v.X)\n",
    "varY1Total = getVariance(v.Y)"
   ]
  },
  {
   "cell_type": "code",
   "execution_count": 159,
   "id": "68016d9e",
   "metadata": {},
   "outputs": [
    {
     "data": {
      "text/plain": [
       "matrix([[0.5       +0.j, 0.4794412 +0.j, 0.50509717+0.j, 0.24950829+0.j,\n",
       "         0.49950829+0.j],\n",
       "        [0.5       +0.j, 0.56330078+0.j, 0.48430577+0.j, 0.25151397+0.j,\n",
       "         0.50151397+0.j],\n",
       "        [0.5       +0.j, 0.54724313+0.j, 0.48828696+0.j, 0.25112992+0.j,\n",
       "         0.50112992+0.j],\n",
       "        [0.5       +0.j, 0.41001489+0.j, 0.52231011+0.j, 0.24784782+0.j,\n",
       "         0.49784782+0.j]])"
      ]
     },
     "execution_count": 159,
     "metadata": {},
     "output_type": "execute_result"
    }
   ],
   "source": [
    "(v.X - getMean(v.X)) @ B + getMean(v.Y)"
   ]
  },
  {
   "cell_type": "code",
   "execution_count": 160,
   "id": "fb21d847",
   "metadata": {},
   "outputs": [
    {
     "data": {
      "text/plain": [
       "[]"
      ]
     },
     "execution_count": 160,
     "metadata": {},
     "output_type": "execute_result"
    }
   ],
   "source": [
    "varS1Ary"
   ]
  },
  {
   "cell_type": "code",
   "execution_count": 161,
   "id": "58fbee4f",
   "metadata": {},
   "outputs": [
    {
     "data": {
      "image/png": "[encoded data removed]",
      "text/plain": [
       "<Figure size 640x480 with 1 Axes>"
      ]
     },
     "metadata": {},
     "output_type": "display_data"
    }
   ],
   "source": [
    "plotVar(varX1Ary, varY1Ary, varX1Total, varY1Total)"
   ]
  },
  {
   "cell_type": "code",
   "execution_count": 321,
   "id": "510b8282",
   "metadata": {},
   "outputs": [],
   "source": [
    "def SIMPLS(X, Y, numFactor, tolerance = 1e-6):\n",
    "    X = np.matrix(X)\n",
    "    Y = np.matrix(Y)\n",
    "    \n",
    "    varXAry = []\n",
    "    varYAry = []\n",
    "    varSAry = []\n",
    "    \n",
    "    numSample = X.shape[0]\n",
    "    numHuman = X.shape[1]\n",
    "    numPathogen = Y.shape[1]\n",
    "    eig_ary = []\n",
    "    \n",
    "    Y0 = Y - getMean(Y) # Centralize Y\n",
    "    S = (X.T @ Y0) # Calculate S\n",
    "    for a in range(1, numFactor+1):\n",
    "#         eigenvalues, eigenvectors = np.linalg.eig(S.T @ S)\n",
    "#         dominant_index = np.argmax(np.abs(eigenvalues))\n",
    "#         q = np.matrix(eigenvectors[:, dominant_index])\n",
    "\n",
    "        eigenvalues, eigenvectors = sp.eigh(S.T @ S)\n",
    "#         dominant_eigenvalue = eigenvalues[-1]\n",
    "        q = np.matrix(eigenvectors[:, -1]).T\n",
    "        r = S @ q\n",
    "        t = X @ r\n",
    "        t = t - np.mean(t)\n",
    "        normt = np.sqrt(t.T @ t)\n",
    "        t = t/normt\n",
    "        r = r/np.sqrt(r.T @ r)\n",
    "        p = X.T @ t\n",
    "        q = Y0.T @ t\n",
    "        u = Y0 @ q\n",
    "        v = p\n",
    "        if a > 1:\n",
    "            v = v - V @ (V.T @ p)\n",
    "            u = u - T @ (T.T @ u)\n",
    "        v = v/np.sqrt(v.T @ v)\n",
    "        S = S - v @ (v.T @ S)\n",
    "        if a == 1:\n",
    "            R, T, P, Q, U, V = r, t, p, q, u, v\n",
    "        else:\n",
    "            R = np.hstack([R, r])\n",
    "            T = np.hstack([T, t])\n",
    "            P = np.hstack([P, p])\n",
    "            Q = np.hstack([Q, q])\n",
    "            U = np.hstack([U, u])\n",
    "            V = np.hstack([V, v])\n",
    "        varXAry.append(np.diag((P.T @ P)/(numSample - 1))[0])\n",
    "        varYAry.append(np.diag((Q.T @ Q)/(numSample - 1))[0])\n",
    "        # tolerance\n",
    "        if abs(np.sum(varYAry) - getVariance(Y)) < tolerance:\n",
    "            B = R @ Q.T\n",
    "            h = np.diag(T @ T.T) + 1/numSample\n",
    "            return B, T, R\n",
    "    B = R @ Q.T\n",
    "    h = np.diag(T @ T.T) + 1/numSample\n",
    "    return B, T, R"
   ]
  },
  {
   "cell_type": "code",
   "execution_count": 322,
   "id": "1b1a70d9",
   "metadata": {},
   "outputs": [],
   "source": [
    "test3X = np.array([[-4,2,1], [-4,-2,-1],[4,2,-1],[4,-2,1]])\n",
    "test3Y = np.array([[430, -94], [-436, 12], [-361, -22], [367, 104]])\n",
    "B3, T3, R3 = SIMPLS(test3X, test3Y, 3)"
   ]
  },
  {
   "cell_type": "code",
   "execution_count": 323,
   "id": "aee3e9f7",
   "metadata": {},
   "outputs": [],
   "source": [
    "def bootstrap_pls(X, Y, n_components=3, n_bootstraps=1000):\n",
    "    B,T,R = SIMPLS(X, Y, numFactor = n_components)\n",
    "    original_coefs = B\n",
    "    \n",
    "    bootstrap_coefs = np.zeros((n_bootstraps, X.shape[1], Y.shape[1]))\n",
    "    \n",
    "    for i in range(n_bootstraps):\n",
    "        indices = np.random.choice(np.arange(X.shape[0]), size=X.shape[0], replace=True)\n",
    "        X_boot = X[indices]\n",
    "        Y_boot = Y[indices]\n",
    "        B,T,R = SIMPLS(X_boot, Y_boot, numFactor = n_components)\n",
    "        bootstrap_coefs[i] = B\n",
    "\n",
    "    # Calculate means and standard errors\n",
    "    coef_means = np.mean(bootstrap_coefs, axis=0)\n",
    "    coef_stds = np.std(bootstrap_coefs, axis=0)\n",
    "    \n",
    "    return original_coefs, coef_means, coef_stds"
   ]
  },
  {
   "cell_type": "code",
   "execution_count": 324,
   "id": "7dc41188",
   "metadata": {},
   "outputs": [
    {
     "data": {
      "text/plain": [
       "array([[1, 0, 1, ..., 1, 0, 2],\n",
       "       [0, 2, 2, ..., 1, 2, 2],\n",
       "       [1, 2, 0, ..., 0, 0, 1],\n",
       "       ...,\n",
       "       [2, 1, 0, ..., 0, 1, 0],\n",
       "       [2, 2, 1, ..., 2, 2, 1],\n",
       "       [2, 1, 1, ..., 1, 0, 1]])"
      ]
     },
     "execution_count": 324,
     "metadata": {},
     "output_type": "execute_result"
    }
   ],
   "source": [
    "v.X"
   ]
  },
  {
   "cell_type": "code",
   "execution_count": 325,
   "id": "14c92131",
   "metadata": {},
   "outputs": [
    {
     "data": {
      "text/plain": [
       "array([[0, 0, 1, 1, 0, 0, 0, 0, 0, 1],\n",
       "       [1, 0, 1, 1, 1, 1, 1, 1, 0, 0],\n",
       "       [1, 0, 0, 0, 0, 0, 1, 0, 0, 1],\n",
       "       [1, 0, 0, 0, 0, 1, 1, 0, 1, 0],\n",
       "       [1, 0, 0, 0, 1, 0, 0, 1, 1, 0],\n",
       "       [1, 0, 0, 1, 1, 0, 0, 1, 0, 1],\n",
       "       [1, 0, 0, 0, 1, 1, 1, 1, 0, 1],\n",
       "       [0, 1, 1, 1, 1, 0, 0, 1, 0, 0],\n",
       "       [1, 0, 1, 0, 0, 0, 1, 0, 1, 0],\n",
       "       [1, 0, 0, 1, 0, 1, 1, 0, 0, 0],\n",
       "       [1, 0, 1, 1, 1, 1, 0, 1, 1, 0],\n",
       "       [1, 0, 1, 0, 0, 0, 0, 1, 1, 0],\n",
       "       [0, 0, 0, 1, 0, 1, 1, 1, 1, 0],\n",
       "       [1, 1, 1, 0, 0, 0, 1, 1, 1, 0],\n",
       "       [1, 1, 0, 1, 1, 1, 0, 0, 0, 0],\n",
       "       [0, 0, 0, 1, 1, 1, 1, 1, 0, 1],\n",
       "       [1, 1, 1, 1, 0, 1, 0, 1, 0, 1],\n",
       "       [1, 1, 1, 1, 1, 1, 1, 1, 0, 0],\n",
       "       [0, 1, 0, 1, 1, 0, 0, 0, 0, 1],\n",
       "       [0, 0, 0, 0, 1, 0, 0, 0, 1, 0]])"
      ]
     },
     "execution_count": 325,
     "metadata": {},
     "output_type": "execute_result"
    }
   ],
   "source": [
    "v.Y"
   ]
  },
  {
   "cell_type": "code",
   "execution_count": 326,
   "id": "7e353880",
   "metadata": {},
   "outputs": [],
   "source": [
    "def jackknife_pls(X, Y, n_components=3):\n",
    "    n_samples = X.shape[0]\n",
    "    B,T,R = SIMPLS(X, Y, numFactor = n_components)\n",
    "    B_original = B\n",
    "    \n",
    "    jackknife_coefs = np.zeros((n_samples, X.shape[1], Y.shape[1]))\n",
    "    \n",
    "    for i in range(n_samples):\n",
    "        X_jack = np.delete(X, i, axis=0)\n",
    "        Y_jack = np.delete(Y, i, axis=0)\n",
    "        B,T,R = SIMPLS(X_jack, Y_jack, numFactor = n_components)\n",
    "        jackknife_coefs[i] = B\n",
    "    \n",
    "    coef_mean = np.mean(jackknife_coefs, axis=0)\n",
    "    coef_std = np.std(jackknife_coefs, axis=0, ddof=1)\n",
    "    \n",
    "    t_stats = B_original / coef_std\n",
    "    \n",
    "    return t_stats"
   ]
  },
  {
   "cell_type": "code",
   "execution_count": 327,
   "id": "67c45d84",
   "metadata": {},
   "outputs": [],
   "source": [
    "t_stats = jackknife_pls(v.X, v.Y)"
   ]
  },
  {
   "cell_type": "code",
   "execution_count": 328,
   "id": "0d1e69ba",
   "metadata": {},
   "outputs": [
    {
     "data": {
      "text/plain": [
       "matrix([[-2.30355099,  2.05127306,  0.69339066,  1.17657988,  1.19614326,\n",
       "         -1.77463335, -3.04351424, -0.10921281, -1.98523198,  2.68590327],\n",
       "        [ 0.78373183,  1.36586603, -2.91896636,  5.92020353,  5.65441327,\n",
       "          6.76136268,  1.60977375,  1.65317449, -6.33042535,  1.93720216],\n",
       "        [ 2.62458589, -3.36155281, -1.59883729, -5.15850889, -6.23584339,\n",
       "         -0.38143488,  5.61498215, -2.21145683,  6.57769161, -3.41070092],\n",
       "        [-0.52106451,  1.10123301,  0.73246698,  0.75285639,  0.84832412,\n",
       "          0.25579731, -0.22809666,  0.68134385, -0.19663109, -0.58696256],\n",
       "        [ 2.37166083, -2.31751364, -4.36879665, -2.65551163, -2.9714653 ,\n",
       "          1.17325067,  3.8600053 , -2.52577962,  1.10542453,  1.02105561],\n",
       "        [-1.21818416, -0.21375393,  0.25824819, -2.17343351, -1.67654569,\n",
       "         -3.42801373, -2.16972158, -1.28048766,  0.43481026,  1.6370281 ],\n",
       "        [-1.86584194,  1.9294331 ,  2.80790382,  1.00500425,  1.11432996,\n",
       "         -0.91765453, -1.68840501,  1.48377484,  0.54231242, -1.78809947],\n",
       "        [ 3.98429693, -3.59321654, -3.22867834, -4.70755023, -4.90890708,\n",
       "          3.12333294,  6.56784428, -2.17942318,  5.69382841, -2.94495073],\n",
       "        [ 2.06518207, -3.02654792,  1.19488996, -7.23532314, -8.63483762,\n",
       "         -2.86220348,  3.73304639, -2.42548427, 11.6831704 , -6.2230892 ],\n",
       "        [-0.46768427, -1.35829604, -0.87920397, -3.40018855, -3.40385346,\n",
       "         -3.98216117, -1.99124631, -3.7798472 ,  1.71394077,  2.15239343],\n",
       "        [-1.50385299,  0.36340418,  0.75271586, -0.4692519 , -0.39864619,\n",
       "         -2.14586103, -2.18865341, -0.53483271,  0.15028227,  0.73937417],\n",
       "        [-0.69328625, -1.18545785,  3.33015326, -4.43688723, -6.02174855,\n",
       "         -4.0195824 , -0.37688479, -0.95629451, 10.04209252, -5.26828482],\n",
       "        [ 1.9865474 , -2.82431293, -3.16225052, -3.06229435, -3.41900894,\n",
       "         -0.99973117,  1.40607271, -4.45649197,  0.90880212,  2.5826123 ],\n",
       "        [ 0.71600429, -1.35625385, -1.7415555 , -1.05722076, -0.91057177,\n",
       "         -0.44839234,  0.01226585, -1.52514804, -0.57477664,  1.92583098],\n",
       "        [ 2.445324  , -2.54261744, -0.36198753, -3.81038489, -4.45307594,\n",
       "          0.68015201,  5.67980611, -0.83454523,  5.85499042, -4.56926171],\n",
       "        [-0.90939248, -0.78944979,  0.42598095, -4.03013169, -3.55855772,\n",
       "         -4.80772458, -2.10084495, -1.88835249,  2.07326746,  1.2605138 ],\n",
       "        [ 1.33128561,  0.46154246, -2.90911515,  2.56304819,  2.64491717,\n",
       "          4.41658273,  1.4729321 ,  0.77818174, -4.0488956 ,  3.42622782],\n",
       "        [ 3.22869775, -1.37561168,  0.27752941, -1.00085099, -1.34917232,\n",
       "          4.70881579,  6.34907062,  1.5265128 ,  4.46933533, -7.18222512],\n",
       "        [-1.42135065,  0.47838696, -2.89417248,  0.63901118,  1.10313473,\n",
       "         -1.65789391, -3.52476815, -2.31080005, -3.6646011 ,  6.53581006],\n",
       "        [ 0.80624275, -1.35422979, -6.48829707, -1.83809268, -1.08761029,\n",
       "         -0.27782368, -0.17351776, -3.4935575 , -4.36753883,  7.86113419],\n",
       "        [ 0.43878103,  1.27212661,  0.30266362,  2.6685957 ,  2.29664012,\n",
       "          2.92379506,  1.10494984,  1.94136379, -1.47427582, -0.95007863],\n",
       "        [-2.53963237,  0.60193652, -0.77763582, -0.32689284,  0.05337663,\n",
       "         -2.89580299, -3.89381742, -1.70934922, -2.22972587,  3.79448599],\n",
       "        [ 3.18389865, -0.89655342, -4.0330994 ,  1.65350611,  1.68645852,\n",
       "          6.01889498,  4.99689168,  0.57456075, -2.85695281,  1.01093184],\n",
       "        [ 1.28038755, -0.18420737, -2.39940549,  0.88543892,  1.0639037 ,\n",
       "          2.30462464,  1.46222004,  0.15928955, -1.64693527,  1.22395344],\n",
       "        [ 2.88539206, -0.92795307, -3.29855434,  1.32000198,  1.29134779,\n",
       "          6.88048233,  5.47161886,  0.83733017, -1.46945123, -0.29515945],\n",
       "        [ 0.48303867, -0.94526959, -2.78946881, -1.22112705, -0.93507575,\n",
       "         -1.0483966 , -0.47169221, -2.79778084, -1.18596071,  3.36456893],\n",
       "        [-0.33230078, -1.38668515, -2.03065929, -3.37590353, -2.98465962,\n",
       "         -5.44194134, -3.22755975, -3.91257995, -0.18187226,  4.1065162 ],\n",
       "        [-0.49589271, -0.88700422, -0.99069957, -2.08527196, -1.74042876,\n",
       "         -3.04191204, -1.82072106, -2.40242201,  0.40065529,  2.29505167],\n",
       "        [-2.54737497,  3.52807829,  1.58070604,  6.20340824,  8.21842766,\n",
       "          2.17237841, -3.78725444,  4.68413674, -7.43515741,  2.40541572],\n",
       "        [ 0.63423898, -1.05922879, -0.3974686 , -0.6411455 , -0.62044451,\n",
       "          0.09358693,  0.49176996, -0.2853666 ,  0.41795111, -0.01854954],\n",
       "        [ 0.84153231, -0.206393  , -5.45895857,  1.55902707,  2.51420417,\n",
       "          2.28661821, -0.03252642, -1.64895009, -6.74063582,  6.70475253],\n",
       "        [ 0.96349875, -1.83724332,  0.17021622, -4.91471504, -5.48908252,\n",
       "         -2.54842243,  1.25862361, -1.85157044,  4.61899036, -1.65047264],\n",
       "        [-1.79756538,  2.67585813,  3.94618843,  4.0116757 ,  3.74639703,\n",
       "          1.39548425, -1.75246876,  4.94856671, -1.51282141, -2.3850719 ],\n",
       "        [ 3.40124181, -0.78435616, -2.90546309,  1.52821536,  1.78794914,\n",
       "          8.06704751,  7.74415758,  1.35775446, -1.56790471, -0.91833179],\n",
       "        [ 1.31825392, -1.69759263,  2.08397858, -2.54486789, -2.71132296,\n",
       "          0.23031056,  3.00342732,  0.75539217,  6.03817196, -6.39860619],\n",
       "        [ 2.22477941, -1.77149848, -8.32968599, -1.11684194, -0.63018556,\n",
       "          3.1676252 ,  2.92356058, -2.96561816, -4.29079013,  4.99379605],\n",
       "        [-1.26078912,  1.79351655,  4.08300076,  2.23719969,  2.15274612,\n",
       "          0.07923232, -1.31938875,  2.16872496, -0.04470825, -2.22590203],\n",
       "        [ 2.03217042, -2.21137408, -2.81144272, -1.70596337, -1.98651718,\n",
       "          0.55376407,  2.38204296, -1.75760693,  1.01937344,  0.16553956],\n",
       "        [-1.77137281,  0.61376485,  0.05275456, -0.5602674 , -0.19206371,\n",
       "         -3.31192015, -3.13860291, -1.18821053, -1.68503821,  3.50504316],\n",
       "        [-1.30298003,  1.20648073,  2.63582881,  0.19589616, -0.06086117,\n",
       "         -1.06457173, -1.00438122,  0.90775941,  1.91171297, -2.78452718],\n",
       "        [-1.5152142 ,  0.39655944, -3.12298557,  0.17142624,  0.84388477,\n",
       "         -2.69193618, -5.67248824, -2.9074805 , -7.13020989,  8.91569151],\n",
       "        [-1.75010863, -0.2997236 ,  4.05833262, -2.3562561 , -2.45263659,\n",
       "         -4.43483622, -2.78462107, -1.02187568,  3.5616982 , -1.84647904],\n",
       "        [-0.55525195,  0.35890423, -0.99190726,  0.43175754,  0.77924943,\n",
       "         -0.37858476, -1.30871744, -0.62085841, -1.75363411,  2.56788028],\n",
       "        [ 3.0300408 , -3.046334  , -0.75537263, -4.99949711, -6.28620739,\n",
       "          0.03635636,  5.33174863, -1.78663801,  6.80828085, -4.6875551 ],\n",
       "        [ 3.3177411 , -2.8412542 , -5.71827274, -3.16417981, -3.29460183,\n",
       "          3.83393186,  6.77876329, -2.67284325,  1.60593071,  0.37711238],\n",
       "        [ 3.07628287, -2.66131912, -6.72485324, -2.47166898, -2.73561199,\n",
       "          2.83866868,  4.91749802, -2.77401333,  0.28213097,  1.22557878],\n",
       "        [ 1.91900919, -2.98129148, -1.20477742, -6.50695998, -8.66734296,\n",
       "         -2.72883404,  3.63360788, -3.57713853,  6.61974911, -2.35004871],\n",
       "        [ 0.31038138, -1.55064301,  0.83748383, -2.70673897, -4.43325892,\n",
       "         -2.72354292,  0.19617127, -1.93064618,  4.02303742, -1.65143607],\n",
       "        [ 2.00736618, -0.6440276 , -4.77481505,  1.02777882,  1.68136132,\n",
       "          3.12658591,  2.37981631, -0.85049213, -5.02266651,  4.9650983 ],\n",
       "        [-0.45846915,  1.36838935,  0.11015565,  1.32957388,  1.49198018,\n",
       "          0.59938162, -0.33179318,  0.59042841, -1.35153137,  0.35925966],\n",
       "        [ 1.65141133, -0.65324642,  1.02672369, -0.07554698, -0.45903987,\n",
       "          2.9097094 ,  3.8199797 ,  1.32213629,  3.61601822, -6.28147486],\n",
       "        [-1.04091353, -0.72012884, -1.34263422, -2.60307524, -1.99850336,\n",
       "         -4.3944491 , -3.17541007, -3.17748914, -0.45136566,  3.62628295],\n",
       "        [ 2.2223858 , -1.82583354, -3.39065385, -0.64033779, -0.25734212,\n",
       "          1.39771579,  1.26940574, -1.49439206, -2.7163754 ,  3.6656039 ],\n",
       "        [ 4.00359267, -2.64613438, -1.57925439, -3.73198798, -3.90045309,\n",
       "          4.40175422,  8.85059464, -0.24235606,  7.41702656, -6.017202  ],\n",
       "        [ 0.87259496, -1.91532564,  0.15933083, -2.85341973, -2.81269862,\n",
       "         -1.40883742,  1.01316604, -1.32582042,  2.27262107, -1.2202158 ],\n",
       "        [ 2.89220205, -0.40405023, -1.20822204,  1.38619272,  1.27993964,\n",
       "          4.05416626,  4.88041722,  1.42695346, -0.54175347, -1.35367317],\n",
       "        [-1.4147678 , -0.78575948,  3.09583158, -4.67545323, -4.26986035,\n",
       "         -6.86678449, -2.16920592, -1.08478686,  5.81684671, -2.50104688],\n",
       "        [-1.56988427,  3.03400179,  1.70627969,  7.10327419,  8.74911903,\n",
       "          4.28245857, -1.68127851,  5.18520131, -8.13844719,  0.3639542 ],\n",
       "        [ 2.14102515, -1.35574826,  0.66526133, -1.04747372, -1.22715887,\n",
       "          1.52097162,  3.91980945,  0.85482087,  2.79362988, -3.79488983],\n",
       "        [-3.22756181,  2.4843863 ,  2.22703584,  3.21950638,  3.53227966,\n",
       "         -2.62358375, -5.3329826 ,  0.81864352, -4.20366802,  3.34223018],\n",
       "        [-1.88126153,  1.45548581,  3.48670582,  0.62289306,  0.47344654,\n",
       "         -1.01444061, -1.21626748,  1.57199905,  1.75799518, -2.6061817 ],\n",
       "        [ 1.48555509, -2.71443658, -3.26856117, -7.62809199, -7.31108283,\n",
       "         -2.48178753,  2.24030008, -3.54840356,  5.07521491,  0.69974332],\n",
       "        [-2.39775972,  1.15335833, -0.07887221,  0.63296576,  0.90221648,\n",
       "         -2.1648265 , -4.44635869, -1.14876106, -2.73861521,  5.10010189],\n",
       "        [ 1.7412274 , -1.12016249, -0.69830351, -0.80859348, -0.97580862,\n",
       "          0.44030349,  2.44314887, -0.42583697,  1.0165049 , -0.94572047],\n",
       "        [-1.03529587,  1.12278188,  1.69071519,  0.47460291,  0.30321609,\n",
       "         -0.41366284, -0.47581686,  0.86028798,  1.51818011, -2.29749308],\n",
       "        [-0.33419909, -1.83636893,  1.2798823 , -5.94577253, -6.28427262,\n",
       "         -6.37701879, -1.44931387, -3.02973481,  6.22594133, -1.36615694],\n",
       "        [ 0.04973559, -1.70433698,  2.90599921, -4.14870236, -4.90552599,\n",
       "         -3.00624753,  0.38880968, -1.04719152,  6.69255976, -4.29107989],\n",
       "        [-2.31771177,  2.51547448,  6.39177254,  2.84913819,  2.99807564,\n",
       "         -1.09477605, -3.89832896,  3.2770152 , -0.79224011, -1.56436524],\n",
       "        [ 3.73527238, -2.5664385 , -4.14109513, -1.72812564, -1.57649887,\n",
       "          4.53932253,  5.4575615 , -1.14941977,  0.48177089,  0.31088439],\n",
       "        [ 1.43964327,  0.13401074, -0.80190589,  2.14253585,  1.79470965,\n",
       "          5.5038661 ,  2.81724676,  1.21677221, -0.91233325, -1.33429446],\n",
       "        [ 3.74781714, -2.38424584, -2.35408559, -2.40997417, -2.43249935,\n",
       "          5.19627701,  8.43086022, -0.06588828,  3.67598866, -3.72901373],\n",
       "        [-2.50382801,  0.21087168,  1.14838739, -2.11710835, -1.88257668,\n",
       "         -6.29001802, -5.4081348 , -1.99972891,  0.36816915,  2.28281872],\n",
       "        [ 3.06975726, -1.43501024, -3.26037596, -0.21038862, -0.19119874,\n",
       "          5.06872378,  4.72311483,  0.01712087, -0.15128112, -0.37674284],\n",
       "        [ 1.81138547, -3.10836926, -0.83083524, -9.35893557, -8.74039161,\n",
       "         -2.06801059,  3.49923207, -2.33114915,  9.19509686, -2.57103825],\n",
       "        [-2.1883934 ,  3.46537302,  1.21932302,  5.70280679,  6.07671037,\n",
       "          2.41066391, -3.26405753,  3.43035618, -6.47128467,  2.1879437 ],\n",
       "        [ 2.87424607, -2.8891161 , -0.15761397, -2.80100136, -3.27306979,\n",
       "          1.26828889,  4.09963917, -0.17561849,  5.48713034, -5.76552283],\n",
       "        [-0.24298452,  2.0656475 , -1.9150518 ,  4.26992289,  7.98016596,\n",
       "          3.99376769, -0.24401766,  2.13570627, -7.94993732,  2.95677977],\n",
       "        [-0.991739  ,  0.55953405,  0.1538642 ,  0.20504269,  0.27900018,\n",
       "         -1.18821   , -1.85148475, -0.42677163, -0.6307075 ,  1.1463732 ],\n",
       "        [ 1.18290995, -1.29812384, -5.85749044, -1.07035742, -0.57774835,\n",
       "          0.57384386,  0.49751823, -4.04919191, -3.14154186,  5.45050956],\n",
       "        [ 1.88851417, -0.53411152, -0.26051734,  0.64313238,  0.45008407,\n",
       "          2.47584163,  3.48566596,  1.9217498 ,  0.97854273, -2.87512398],\n",
       "        [-0.46231043, -0.34339164, -3.92423376, -0.85362482, -0.28225532,\n",
       "         -1.67288315, -2.13936921, -2.60440379, -2.53118613,  5.44493924],\n",
       "        [ 2.9381779 , -1.46843142, -1.42038113, -0.43567231, -0.6766937 ,\n",
       "          5.19128859,  7.3989918 ,  1.16267437,  2.25978759, -3.40468798],\n",
       "        [-1.6785033 ,  1.48882821,  4.20468139,  0.94170563,  0.73975855,\n",
       "         -1.35125217, -1.97997941,  1.56254646,  1.08145721, -2.42806541],\n",
       "        [ 2.78625833, -3.07648354, -2.34404921, -3.32005947, -4.40658911,\n",
       "          0.13950638,  3.73178394, -2.51633534,  3.7986155 , -1.19347174],\n",
       "        [ 2.22802819, -0.65450553, -5.01322459,  1.46957641,  1.85389769,\n",
       "          5.02979376,  2.80375849, -0.17158393, -4.03561229,  3.0587612 ],\n",
       "        [ 1.31984744,  0.63384741,  0.39111531,  4.02164185,  3.35068622,\n",
       "          7.51535922,  5.05003795,  2.85007211, -0.71005689, -3.20296574],\n",
       "        [-1.48585272, -0.28124172,  0.32713368, -2.70913768, -2.21445267,\n",
       "         -5.77973172, -3.88189782, -2.02594471,  0.62921326,  2.35152668],\n",
       "        [-0.90508627, -0.58224034, -0.46739368, -3.77980384, -2.93971405,\n",
       "         -3.98729415, -2.45317653, -1.95230959,  0.27359804,  2.68540319],\n",
       "        [ 2.61214478, -1.25351853, -5.36255059,  0.56801563,  1.02376096,\n",
       "          4.56501917,  3.70364062, -0.76822979, -4.49326634,  2.95758081],\n",
       "        [-2.84645176,  3.16822878,  0.79967563,  3.36940062,  4.47562213,\n",
       "         -0.98951832, -3.89512063,  0.85832151, -4.59258404,  4.21997633],\n",
       "        [ 1.95405922, -0.60933627, -5.66145351,  0.95569496,  1.55692994,\n",
       "          3.0665917 ,  2.02128875, -0.5041575 , -4.73078264,  3.19179152],\n",
       "        [ 1.7760421 , -2.30599554, -2.7187896 , -2.33449481, -2.09761939,\n",
       "         -0.31644662,  1.74598112, -2.68919789,  0.746639  ,  1.86339169],\n",
       "        [ 2.40365294, -3.17150613, -4.58436255, -5.77383414, -6.3272696 ,\n",
       "         -0.93875896,  4.43573835, -4.91514697,  5.51938106,  0.18802795],\n",
       "        [-0.30603968,  0.97269057,  4.47165132,  1.26774958,  0.86714627,\n",
       "          0.8589394 ,  0.90955316,  3.48069053,  2.2877043 , -4.55835139],\n",
       "        [-0.8336466 ,  0.1727225 , -4.29541078,  0.47915858,  1.05008481,\n",
       "         -1.45412292, -3.03283559, -2.89905551, -7.36132712,  8.75557268],\n",
       "        [-1.76912054,  0.32605952,  0.41254326, -0.65414805, -0.53821697,\n",
       "         -2.65738561, -2.88647529, -1.04961684, -0.24018752,  1.65712037],\n",
       "        [-2.30540055,  3.22818446,  1.87957088,  4.55036348,  6.67753641,\n",
       "          1.25157312, -2.91772509,  4.03168814, -5.57360117,  1.53510037],\n",
       "        [ 1.86342522, -1.38746647, -4.33084595, -0.69744681, -0.21186719,\n",
       "          2.04522692,  2.15956479, -1.55591331, -2.25606072,  2.95616704],\n",
       "        [-1.08803391,  2.82701984,  1.56521851,  5.28796472,  6.23268597,\n",
       "          4.25152785, -0.59566818,  4.63135685, -5.67461242, -0.58776385],\n",
       "        [-3.17114617,  1.12514544,  0.45054738, -0.22594724,  0.13772768,\n",
       "         -4.37281973, -6.22479089, -1.55742176, -2.69245866,  3.66193017]])"
      ]
     },
     "execution_count": 328,
     "metadata": {},
     "output_type": "execute_result"
    }
   ],
   "source": [
    "t_stats"
   ]
  },
  {
   "cell_type": "code",
   "execution_count": null,
   "id": "feaa2259",
   "metadata": {},
   "outputs": [],
   "source": []
  }
 ],
 "metadata": {
  "kernelspec": {
   "display_name": "Python 3 (ipykernel)",
   "language": "python",
   "name": "python3"
  },
  "language_info": {
   "codemirror_mode": {
    "name": "ipython",
    "version": 3
   },
   "file_extension": ".py",
   "mimetype": "text/x-python",
   "name": "python",
   "nbconvert_exporter": "python",
   "pygments_lexer": "ipython3",
   "version": "3.9.15"
  },
  "latex_envs": {
   "LaTeX_envs_menu_present": true,
   "autoclose": false,
   "autocomplete": true,
   "bibliofile": "biblio.bib",
   "cite_by": "apalike",
   "current_citInitial": 1,
   "eqLabelWithNumbers": true,
   "eqNumInitial": 1,
   "hotkeys": {
    "equation": "Ctrl-E",
    "itemize": "Ctrl-I"
   },
   "labels_anchors": false,
   "latex_user_defs": false,
   "report_style_numbering": false,
   "user_envs_cfg": false
  },
  "toc": {
   "base_numbering": 1,
   "nav_menu": {},
   "number_sections": true,
   "sideBar": true,
   "skip_h1_title": false,
   "title_cell": "Table of Contents",
   "title_sidebar": "Contents",
   "toc_cell": false,
   "toc_position": {},
   "toc_section_display": true,
   "toc_window_display": false
  },
  "vscode": {
   "interpreter": {
    "hash": "610c699f0cd8c4f129acd9140687fff6866bed0eb8e82f249fc8848b827b628c"
   }
  }
 },
 "nbformat": 4,
 "nbformat_minor": 5
}
